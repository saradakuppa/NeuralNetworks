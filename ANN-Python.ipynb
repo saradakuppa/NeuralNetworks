{
 "cells": [
  {
   "cell_type": "code",
   "execution_count": 1,
   "metadata": {},
   "outputs": [],
   "source": [
    "# Part 1 - Data Preporcessing"
   ]
  },
  {
   "cell_type": "code",
   "execution_count": 33,
   "metadata": {},
   "outputs": [],
   "source": [
    "import numpy as np\n",
    "import matplotlib.pyplot as plt\n",
    "import pandas as pd"
   ]
  },
  {
   "cell_type": "code",
   "execution_count": 34,
   "metadata": {},
   "outputs": [],
   "source": [
    "# importing the dataset\n",
    "df = pd.read_csv(\"Churn_Modelling.csv\")"
   ]
  },
  {
   "cell_type": "code",
   "execution_count": 35,
   "metadata": {},
   "outputs": [
    {
     "data": {
      "text/html": [
       "<div>\n",
       "<style scoped>\n",
       "    .dataframe tbody tr th:only-of-type {\n",
       "        vertical-align: middle;\n",
       "    }\n",
       "\n",
       "    .dataframe tbody tr th {\n",
       "        vertical-align: top;\n",
       "    }\n",
       "\n",
       "    .dataframe thead th {\n",
       "        text-align: right;\n",
       "    }\n",
       "</style>\n",
       "<table border=\"1\" class=\"dataframe\">\n",
       "  <thead>\n",
       "    <tr style=\"text-align: right;\">\n",
       "      <th></th>\n",
       "      <th>RowNumber</th>\n",
       "      <th>CustomerId</th>\n",
       "      <th>Surname</th>\n",
       "      <th>CreditScore</th>\n",
       "      <th>Geography</th>\n",
       "      <th>Gender</th>\n",
       "      <th>Age</th>\n",
       "      <th>Tenure</th>\n",
       "      <th>Balance</th>\n",
       "      <th>NumOfProducts</th>\n",
       "      <th>HasCrCard</th>\n",
       "      <th>IsActiveMember</th>\n",
       "      <th>EstimatedSalary</th>\n",
       "      <th>Exited</th>\n",
       "    </tr>\n",
       "  </thead>\n",
       "  <tbody>\n",
       "    <tr>\n",
       "      <th>0</th>\n",
       "      <td>1</td>\n",
       "      <td>15634602</td>\n",
       "      <td>Hargrave</td>\n",
       "      <td>619</td>\n",
       "      <td>France</td>\n",
       "      <td>Female</td>\n",
       "      <td>42</td>\n",
       "      <td>2</td>\n",
       "      <td>0.00</td>\n",
       "      <td>1</td>\n",
       "      <td>1</td>\n",
       "      <td>1</td>\n",
       "      <td>101348.88</td>\n",
       "      <td>1</td>\n",
       "    </tr>\n",
       "    <tr>\n",
       "      <th>1</th>\n",
       "      <td>2</td>\n",
       "      <td>15647311</td>\n",
       "      <td>Hill</td>\n",
       "      <td>608</td>\n",
       "      <td>Spain</td>\n",
       "      <td>Female</td>\n",
       "      <td>41</td>\n",
       "      <td>1</td>\n",
       "      <td>83807.86</td>\n",
       "      <td>1</td>\n",
       "      <td>0</td>\n",
       "      <td>1</td>\n",
       "      <td>112542.58</td>\n",
       "      <td>0</td>\n",
       "    </tr>\n",
       "    <tr>\n",
       "      <th>2</th>\n",
       "      <td>3</td>\n",
       "      <td>15619304</td>\n",
       "      <td>Onio</td>\n",
       "      <td>502</td>\n",
       "      <td>France</td>\n",
       "      <td>Female</td>\n",
       "      <td>42</td>\n",
       "      <td>8</td>\n",
       "      <td>159660.80</td>\n",
       "      <td>3</td>\n",
       "      <td>1</td>\n",
       "      <td>0</td>\n",
       "      <td>113931.57</td>\n",
       "      <td>1</td>\n",
       "    </tr>\n",
       "    <tr>\n",
       "      <th>3</th>\n",
       "      <td>4</td>\n",
       "      <td>15701354</td>\n",
       "      <td>Boni</td>\n",
       "      <td>699</td>\n",
       "      <td>France</td>\n",
       "      <td>Female</td>\n",
       "      <td>39</td>\n",
       "      <td>1</td>\n",
       "      <td>0.00</td>\n",
       "      <td>2</td>\n",
       "      <td>0</td>\n",
       "      <td>0</td>\n",
       "      <td>93826.63</td>\n",
       "      <td>0</td>\n",
       "    </tr>\n",
       "    <tr>\n",
       "      <th>4</th>\n",
       "      <td>5</td>\n",
       "      <td>15737888</td>\n",
       "      <td>Mitchell</td>\n",
       "      <td>850</td>\n",
       "      <td>Spain</td>\n",
       "      <td>Female</td>\n",
       "      <td>43</td>\n",
       "      <td>2</td>\n",
       "      <td>125510.82</td>\n",
       "      <td>1</td>\n",
       "      <td>1</td>\n",
       "      <td>1</td>\n",
       "      <td>79084.10</td>\n",
       "      <td>0</td>\n",
       "    </tr>\n",
       "  </tbody>\n",
       "</table>\n",
       "</div>"
      ],
      "text/plain": [
       "   RowNumber  CustomerId   Surname  CreditScore Geography  Gender  Age  \\\n",
       "0          1    15634602  Hargrave          619    France  Female   42   \n",
       "1          2    15647311      Hill          608     Spain  Female   41   \n",
       "2          3    15619304      Onio          502    France  Female   42   \n",
       "3          4    15701354      Boni          699    France  Female   39   \n",
       "4          5    15737888  Mitchell          850     Spain  Female   43   \n",
       "\n",
       "   Tenure    Balance  NumOfProducts  HasCrCard  IsActiveMember  \\\n",
       "0       2       0.00              1          1               1   \n",
       "1       1   83807.86              1          0               1   \n",
       "2       8  159660.80              3          1               0   \n",
       "3       1       0.00              2          0               0   \n",
       "4       2  125510.82              1          1               1   \n",
       "\n",
       "   EstimatedSalary  Exited  \n",
       "0        101348.88       1  \n",
       "1        112542.58       0  \n",
       "2        113931.57       1  \n",
       "3         93826.63       0  \n",
       "4         79084.10       0  "
      ]
     },
     "execution_count": 35,
     "metadata": {},
     "output_type": "execute_result"
    }
   ],
   "source": [
    "df.head()"
   ]
  },
  {
   "cell_type": "code",
   "execution_count": 36,
   "metadata": {},
   "outputs": [],
   "source": [
    "# Geography and Gender has categorial variables \n",
    "# Create dummy varibles\n",
    "dummies = pd.get_dummies(data=df, columns=['Geography', 'Gender'], drop_first=True)"
   ]
  },
  {
   "cell_type": "code",
   "execution_count": 37,
   "metadata": {},
   "outputs": [],
   "source": [
    "\n",
    "df = pd.concat([df, dummies], axis=1)"
   ]
  },
  {
   "cell_type": "code",
   "execution_count": 38,
   "metadata": {},
   "outputs": [
    {
     "data": {
      "text/html": [
       "<div>\n",
       "<style scoped>\n",
       "    .dataframe tbody tr th:only-of-type {\n",
       "        vertical-align: middle;\n",
       "    }\n",
       "\n",
       "    .dataframe tbody tr th {\n",
       "        vertical-align: top;\n",
       "    }\n",
       "\n",
       "    .dataframe thead th {\n",
       "        text-align: right;\n",
       "    }\n",
       "</style>\n",
       "<table border=\"1\" class=\"dataframe\">\n",
       "  <thead>\n",
       "    <tr style=\"text-align: right;\">\n",
       "      <th></th>\n",
       "      <th>RowNumber</th>\n",
       "      <th>CustomerId</th>\n",
       "      <th>Surname</th>\n",
       "      <th>CreditScore</th>\n",
       "      <th>Geography</th>\n",
       "      <th>Gender</th>\n",
       "      <th>Age</th>\n",
       "      <th>Tenure</th>\n",
       "      <th>Balance</th>\n",
       "      <th>NumOfProducts</th>\n",
       "      <th>...</th>\n",
       "      <th>Tenure</th>\n",
       "      <th>Balance</th>\n",
       "      <th>NumOfProducts</th>\n",
       "      <th>HasCrCard</th>\n",
       "      <th>IsActiveMember</th>\n",
       "      <th>EstimatedSalary</th>\n",
       "      <th>Exited</th>\n",
       "      <th>Geography_Germany</th>\n",
       "      <th>Geography_Spain</th>\n",
       "      <th>Gender_Male</th>\n",
       "    </tr>\n",
       "  </thead>\n",
       "  <tbody>\n",
       "    <tr>\n",
       "      <th>0</th>\n",
       "      <td>1</td>\n",
       "      <td>15634602</td>\n",
       "      <td>Hargrave</td>\n",
       "      <td>619</td>\n",
       "      <td>France</td>\n",
       "      <td>Female</td>\n",
       "      <td>42</td>\n",
       "      <td>2</td>\n",
       "      <td>0.00</td>\n",
       "      <td>1</td>\n",
       "      <td>...</td>\n",
       "      <td>2</td>\n",
       "      <td>0.00</td>\n",
       "      <td>1</td>\n",
       "      <td>1</td>\n",
       "      <td>1</td>\n",
       "      <td>101348.88</td>\n",
       "      <td>1</td>\n",
       "      <td>0</td>\n",
       "      <td>0</td>\n",
       "      <td>0</td>\n",
       "    </tr>\n",
       "    <tr>\n",
       "      <th>1</th>\n",
       "      <td>2</td>\n",
       "      <td>15647311</td>\n",
       "      <td>Hill</td>\n",
       "      <td>608</td>\n",
       "      <td>Spain</td>\n",
       "      <td>Female</td>\n",
       "      <td>41</td>\n",
       "      <td>1</td>\n",
       "      <td>83807.86</td>\n",
       "      <td>1</td>\n",
       "      <td>...</td>\n",
       "      <td>1</td>\n",
       "      <td>83807.86</td>\n",
       "      <td>1</td>\n",
       "      <td>0</td>\n",
       "      <td>1</td>\n",
       "      <td>112542.58</td>\n",
       "      <td>0</td>\n",
       "      <td>0</td>\n",
       "      <td>1</td>\n",
       "      <td>0</td>\n",
       "    </tr>\n",
       "    <tr>\n",
       "      <th>2</th>\n",
       "      <td>3</td>\n",
       "      <td>15619304</td>\n",
       "      <td>Onio</td>\n",
       "      <td>502</td>\n",
       "      <td>France</td>\n",
       "      <td>Female</td>\n",
       "      <td>42</td>\n",
       "      <td>8</td>\n",
       "      <td>159660.80</td>\n",
       "      <td>3</td>\n",
       "      <td>...</td>\n",
       "      <td>8</td>\n",
       "      <td>159660.80</td>\n",
       "      <td>3</td>\n",
       "      <td>1</td>\n",
       "      <td>0</td>\n",
       "      <td>113931.57</td>\n",
       "      <td>1</td>\n",
       "      <td>0</td>\n",
       "      <td>0</td>\n",
       "      <td>0</td>\n",
       "    </tr>\n",
       "    <tr>\n",
       "      <th>3</th>\n",
       "      <td>4</td>\n",
       "      <td>15701354</td>\n",
       "      <td>Boni</td>\n",
       "      <td>699</td>\n",
       "      <td>France</td>\n",
       "      <td>Female</td>\n",
       "      <td>39</td>\n",
       "      <td>1</td>\n",
       "      <td>0.00</td>\n",
       "      <td>2</td>\n",
       "      <td>...</td>\n",
       "      <td>1</td>\n",
       "      <td>0.00</td>\n",
       "      <td>2</td>\n",
       "      <td>0</td>\n",
       "      <td>0</td>\n",
       "      <td>93826.63</td>\n",
       "      <td>0</td>\n",
       "      <td>0</td>\n",
       "      <td>0</td>\n",
       "      <td>0</td>\n",
       "    </tr>\n",
       "    <tr>\n",
       "      <th>4</th>\n",
       "      <td>5</td>\n",
       "      <td>15737888</td>\n",
       "      <td>Mitchell</td>\n",
       "      <td>850</td>\n",
       "      <td>Spain</td>\n",
       "      <td>Female</td>\n",
       "      <td>43</td>\n",
       "      <td>2</td>\n",
       "      <td>125510.82</td>\n",
       "      <td>1</td>\n",
       "      <td>...</td>\n",
       "      <td>2</td>\n",
       "      <td>125510.82</td>\n",
       "      <td>1</td>\n",
       "      <td>1</td>\n",
       "      <td>1</td>\n",
       "      <td>79084.10</td>\n",
       "      <td>0</td>\n",
       "      <td>0</td>\n",
       "      <td>1</td>\n",
       "      <td>0</td>\n",
       "    </tr>\n",
       "  </tbody>\n",
       "</table>\n",
       "<p>5 rows × 29 columns</p>\n",
       "</div>"
      ],
      "text/plain": [
       "   RowNumber  CustomerId   Surname  CreditScore Geography  Gender  Age  \\\n",
       "0          1    15634602  Hargrave          619    France  Female   42   \n",
       "1          2    15647311      Hill          608     Spain  Female   41   \n",
       "2          3    15619304      Onio          502    France  Female   42   \n",
       "3          4    15701354      Boni          699    France  Female   39   \n",
       "4          5    15737888  Mitchell          850     Spain  Female   43   \n",
       "\n",
       "   Tenure    Balance  NumOfProducts  ...  Tenure    Balance  NumOfProducts  \\\n",
       "0       2       0.00              1  ...       2       0.00              1   \n",
       "1       1   83807.86              1  ...       1   83807.86              1   \n",
       "2       8  159660.80              3  ...       8  159660.80              3   \n",
       "3       1       0.00              2  ...       1       0.00              2   \n",
       "4       2  125510.82              1  ...       2  125510.82              1   \n",
       "\n",
       "   HasCrCard  IsActiveMember  EstimatedSalary Exited  Geography_Germany  \\\n",
       "0          1               1        101348.88      1                  0   \n",
       "1          0               1        112542.58      0                  0   \n",
       "2          1               0        113931.57      1                  0   \n",
       "3          0               0         93826.63      0                  0   \n",
       "4          1               1         79084.10      0                  0   \n",
       "\n",
       "   Geography_Spain  Gender_Male  \n",
       "0                0            0  \n",
       "1                1            0  \n",
       "2                0            0  \n",
       "3                0            0  \n",
       "4                1            0  \n",
       "\n",
       "[5 rows x 29 columns]"
      ]
     },
     "execution_count": 38,
     "metadata": {},
     "output_type": "execute_result"
    }
   ],
   "source": [
    "df.head()"
   ]
  },
  {
   "cell_type": "code",
   "execution_count": 39,
   "metadata": {},
   "outputs": [
    {
     "data": {
      "text/plain": [
       "Index(['RowNumber', 'CustomerId', 'Surname', 'CreditScore', 'Geography',\n",
       "       'Gender', 'Age', 'Tenure', 'Balance', 'NumOfProducts', 'HasCrCard',\n",
       "       'IsActiveMember', 'EstimatedSalary', 'Exited', 'RowNumber',\n",
       "       'CustomerId', 'Surname', 'CreditScore', 'Age', 'Tenure', 'Balance',\n",
       "       'NumOfProducts', 'HasCrCard', 'IsActiveMember', 'EstimatedSalary',\n",
       "       'Exited', 'Geography_Germany', 'Geography_Spain', 'Gender_Male'],\n",
       "      dtype='object')"
      ]
     },
     "execution_count": 39,
     "metadata": {},
     "output_type": "execute_result"
    }
   ],
   "source": [
    "df.columns"
   ]
  },
  {
   "cell_type": "code",
   "execution_count": 40,
   "metadata": {},
   "outputs": [],
   "source": [
    "df = df.drop(['Geography', 'Gender'], axis=1)"
   ]
  },
  {
   "cell_type": "code",
   "execution_count": 41,
   "metadata": {},
   "outputs": [
    {
     "data": {
      "text/plain": [
       "Index(['RowNumber', 'CustomerId', 'Surname', 'CreditScore', 'Age', 'Tenure',\n",
       "       'Balance', 'NumOfProducts', 'HasCrCard', 'IsActiveMember',\n",
       "       'EstimatedSalary', 'Exited', 'RowNumber', 'CustomerId', 'Surname',\n",
       "       'CreditScore', 'Age', 'Tenure', 'Balance', 'NumOfProducts', 'HasCrCard',\n",
       "       'IsActiveMember', 'EstimatedSalary', 'Exited', 'Geography_Germany',\n",
       "       'Geography_Spain', 'Gender_Male'],\n",
       "      dtype='object')"
      ]
     },
     "execution_count": 41,
     "metadata": {},
     "output_type": "execute_result"
    }
   ],
   "source": [
    "df.columns"
   ]
  },
  {
   "cell_type": "code",
   "execution_count": 42,
   "metadata": {},
   "outputs": [],
   "source": [
    "df = df.iloc[:, 13:27]"
   ]
  },
  {
   "cell_type": "code",
   "execution_count": 43,
   "metadata": {},
   "outputs": [
    {
     "data": {
      "text/plain": [
       "Index(['CustomerId', 'Surname', 'CreditScore', 'Age', 'Tenure', 'Balance',\n",
       "       'NumOfProducts', 'HasCrCard', 'IsActiveMember', 'EstimatedSalary',\n",
       "       'Exited', 'Geography_Germany', 'Geography_Spain', 'Gender_Male'],\n",
       "      dtype='object')"
      ]
     },
     "execution_count": 43,
     "metadata": {},
     "output_type": "execute_result"
    }
   ],
   "source": [
    "df.columns"
   ]
  },
  {
   "cell_type": "code",
   "execution_count": 44,
   "metadata": {},
   "outputs": [],
   "source": [
    "# Matric of Features - which inclues the values without the headers!!\n",
    "X = df.iloc[:, [2, 3, 4, 5, 6, 7, 8, 9, 11, 12, 13]].values"
   ]
  },
  {
   "cell_type": "code",
   "execution_count": 45,
   "metadata": {},
   "outputs": [
    {
     "data": {
      "text/plain": [
       "array([[619.,  42.,   2., ...,   0.,   0.,   0.],\n",
       "       [608.,  41.,   1., ...,   0.,   1.,   0.],\n",
       "       [502.,  42.,   8., ...,   0.,   0.,   0.],\n",
       "       ...,\n",
       "       [709.,  36.,   7., ...,   0.,   0.,   0.],\n",
       "       [772.,  42.,   3., ...,   1.,   0.,   1.],\n",
       "       [792.,  28.,   4., ...,   0.,   0.,   0.]])"
      ]
     },
     "execution_count": 45,
     "metadata": {},
     "output_type": "execute_result"
    }
   ],
   "source": [
    "X"
   ]
  },
  {
   "cell_type": "code",
   "execution_count": 46,
   "metadata": {},
   "outputs": [],
   "source": [
    "Y = df.iloc[:, 10].values"
   ]
  },
  {
   "cell_type": "code",
   "execution_count": 47,
   "metadata": {},
   "outputs": [
    {
     "data": {
      "text/plain": [
       "array([1, 0, 1, ..., 1, 1, 0])"
      ]
     },
     "execution_count": 47,
     "metadata": {},
     "output_type": "execute_result"
    }
   ],
   "source": [
    "Y"
   ]
  },
  {
   "cell_type": "code",
   "execution_count": 48,
   "metadata": {},
   "outputs": [],
   "source": [
    "# Splitting the data set into Test and Training sets\n",
    "from sklearn.model_selection import train_test_split\n",
    "X_train, X_test, Y_train, Y_test = train_test_split(X, Y, test_size = 0.25, random_state = 0)"
   ]
  },
  {
   "cell_type": "code",
   "execution_count": 49,
   "metadata": {},
   "outputs": [],
   "source": [
    "# We further need to apply feature scaling as ANN is very compute intensive exercise \n",
    "# It will help if all the variables are scaled."
   ]
  },
  {
   "cell_type": "code",
   "execution_count": 50,
   "metadata": {},
   "outputs": [],
   "source": [
    "from sklearn.preprocessing import StandardScaler\n",
    "sc_X = StandardScaler()"
   ]
  },
  {
   "cell_type": "code",
   "execution_count": 51,
   "metadata": {},
   "outputs": [],
   "source": [
    "X_train = sc_X.fit_transform(X_train)\n",
    "X_test = sc_X.fit_transform(X_test)"
   ]
  },
  {
   "cell_type": "code",
   "execution_count": 52,
   "metadata": {},
   "outputs": [],
   "source": [
    "# Part 2 - Building the model "
   ]
  },
  {
   "cell_type": "code",
   "execution_count": 63,
   "metadata": {},
   "outputs": [],
   "source": [
    "import keras"
   ]
  },
  {
   "cell_type": "code",
   "execution_count": 64,
   "metadata": {},
   "outputs": [],
   "source": [
    "from keras.models import Sequential\n",
    "from keras.layers import Dense"
   ]
  },
  {
   "cell_type": "code",
   "execution_count": 65,
   "metadata": {},
   "outputs": [],
   "source": [
    "# Initialising the ANN"
   ]
  },
  {
   "cell_type": "code",
   "execution_count": 66,
   "metadata": {},
   "outputs": [],
   "source": [
    "classifier = Sequential()"
   ]
  },
  {
   "cell_type": "code",
   "execution_count": 67,
   "metadata": {},
   "outputs": [],
   "source": [
    "# Adding Input layers and First hidden layer"
   ]
  },
  {
   "cell_type": "code",
   "execution_count": 68,
   "metadata": {},
   "outputs": [],
   "source": [
    "# We will choose the rectifier function for input layer and use the sigmoid activation function for output\n",
    "# Unit = output_dim is the avy of inpur and output layers (11+1)/2 = 6"
   ]
  },
  {
   "cell_type": "code",
   "execution_count": 72,
   "metadata": {},
   "outputs": [],
   "source": [
    "classifier.add(Dense(units= 6, activation = 'relu', input_dim = 11, kernel_initializer = 'uniform'))"
   ]
  },
  {
   "cell_type": "code",
   "execution_count": 73,
   "metadata": {},
   "outputs": [],
   "source": [
    "# Adding Second hidden layer\n",
    "classifier.add(Dense(units= 6, activation = 'relu', kernel_initializer = 'uniform'))"
   ]
  },
  {
   "cell_type": "code",
   "execution_count": 74,
   "metadata": {},
   "outputs": [],
   "source": [
    "# Adding Output layer\n",
    "classifier.add(Dense(units= 1, activation = 'sigmoid', kernel_initializer = 'uniform'))"
   ]
  },
  {
   "cell_type": "code",
   "execution_count": 75,
   "metadata": {},
   "outputs": [],
   "source": [
    "# Compiling the ANN\n",
    "classifier.compile(optimizer = 'adam', loss = 'binary_crossentropy', metrics = ['accuracy'])"
   ]
  },
  {
   "cell_type": "code",
   "execution_count": 76,
   "metadata": {},
   "outputs": [
    {
     "name": "stdout",
     "output_type": "stream",
     "text": [
      "WARNING:tensorflow:From /home/ec2-user/anaconda3/envs/tensorflow_p36/lib/python3.6/site-packages/tensorflow/python/ops/math_ops.py:3066: to_int32 (from tensorflow.python.ops.math_ops) is deprecated and will be removed in a future version.\n",
      "Instructions for updating:\n",
      "Use tf.cast instead.\n"
     ]
    },
    {
     "name": "stderr",
     "output_type": "stream",
     "text": [
      "/home/ec2-user/anaconda3/envs/tensorflow_p36/lib/python3.6/site-packages/ipykernel/__main__.py:2: UserWarning: The `nb_epoch` argument in `fit` has been renamed `epochs`.\n",
      "  from ipykernel import kernelapp as app\n"
     ]
    },
    {
     "name": "stdout",
     "output_type": "stream",
     "text": [
      "Epoch 1/100\n",
      "7500/7500 [==============================] - 2s 315us/step - loss: 0.4978 - acc: 0.7963\n",
      "Epoch 2/100\n",
      "7500/7500 [==============================] - 1s 183us/step - loss: 0.4310 - acc: 0.7963\n",
      "Epoch 3/100\n",
      "7500/7500 [==============================] - 1s 184us/step - loss: 0.4255 - acc: 0.7963\n",
      "Epoch 4/100\n",
      "7500/7500 [==============================] - 1s 183us/step - loss: 0.4215 - acc: 0.8095\n",
      "Epoch 5/100\n",
      "7500/7500 [==============================] - 1s 184us/step - loss: 0.4178 - acc: 0.8248\n",
      "Epoch 6/100\n",
      "7500/7500 [==============================] - 1s 183us/step - loss: 0.4156 - acc: 0.8296\n",
      "Epoch 7/100\n",
      "7500/7500 [==============================] - 1s 186us/step - loss: 0.4143 - acc: 0.8315\n",
      "Epoch 8/100\n",
      "7500/7500 [==============================] - 1s 185us/step - loss: 0.4131 - acc: 0.8313\n",
      "Epoch 9/100\n",
      "7500/7500 [==============================] - 1s 185us/step - loss: 0.4121 - acc: 0.8319\n",
      "Epoch 10/100\n",
      "7500/7500 [==============================] - 1s 183us/step - loss: 0.4110 - acc: 0.8315\n",
      "Epoch 11/100\n",
      "7500/7500 [==============================] - 1s 184us/step - loss: 0.4100 - acc: 0.8331\n",
      "Epoch 12/100\n",
      "7500/7500 [==============================] - 1s 183us/step - loss: 0.4091 - acc: 0.8321\n",
      "Epoch 13/100\n",
      "7500/7500 [==============================] - 1s 183us/step - loss: 0.4078 - acc: 0.8321\n",
      "Epoch 14/100\n",
      "7500/7500 [==============================] - 1s 184us/step - loss: 0.4078 - acc: 0.8331\n",
      "Epoch 15/100\n",
      "7500/7500 [==============================] - 1s 181us/step - loss: 0.4076 - acc: 0.8345\n",
      "Epoch 16/100\n",
      "7500/7500 [==============================] - 1s 183us/step - loss: 0.4072 - acc: 0.8333\n",
      "Epoch 17/100\n",
      "7500/7500 [==============================] - 1s 184us/step - loss: 0.4067 - acc: 0.8331\n",
      "Epoch 18/100\n",
      "7500/7500 [==============================] - 1s 183us/step - loss: 0.4061 - acc: 0.8336\n",
      "Epoch 19/100\n",
      "7500/7500 [==============================] - 1s 183us/step - loss: 0.4055 - acc: 0.8344\n",
      "Epoch 20/100\n",
      "7500/7500 [==============================] - 1s 185us/step - loss: 0.4055 - acc: 0.8353\n",
      "Epoch 21/100\n",
      "7500/7500 [==============================] - 1s 184us/step - loss: 0.4053 - acc: 0.8335\n",
      "Epoch 22/100\n",
      "7500/7500 [==============================] - 1s 182us/step - loss: 0.4054 - acc: 0.8343\n",
      "Epoch 23/100\n",
      "7500/7500 [==============================] - 1s 185us/step - loss: 0.4046 - acc: 0.8340\n",
      "Epoch 24/100\n",
      "7500/7500 [==============================] - 1s 182us/step - loss: 0.4049 - acc: 0.8325\n",
      "Epoch 25/100\n",
      "7500/7500 [==============================] - 1s 182us/step - loss: 0.4043 - acc: 0.8347\n",
      "Epoch 26/100\n",
      "7500/7500 [==============================] - 1s 184us/step - loss: 0.4035 - acc: 0.8355\n",
      "Epoch 27/100\n",
      "7500/7500 [==============================] - 1s 184us/step - loss: 0.4051 - acc: 0.8343\n",
      "Epoch 28/100\n",
      "7500/7500 [==============================] - 1s 185us/step - loss: 0.4040 - acc: 0.8344\n",
      "Epoch 29/100\n",
      "7500/7500 [==============================] - 1s 190us/step - loss: 0.4037 - acc: 0.8340\n",
      "Epoch 30/100\n",
      "7500/7500 [==============================] - 1s 183us/step - loss: 0.4037 - acc: 0.8327\n",
      "Epoch 31/100\n",
      "7500/7500 [==============================] - 1s 185us/step - loss: 0.4039 - acc: 0.8353\n",
      "Epoch 32/100\n",
      "7500/7500 [==============================] - 1s 185us/step - loss: 0.4033 - acc: 0.8341\n",
      "Epoch 33/100\n",
      "7500/7500 [==============================] - 1s 183us/step - loss: 0.4034 - acc: 0.8343\n",
      "Epoch 34/100\n",
      "7500/7500 [==============================] - 1s 184us/step - loss: 0.4034 - acc: 0.8333\n",
      "Epoch 35/100\n",
      "7500/7500 [==============================] - 2s 215us/step - loss: 0.4031 - acc: 0.8340\n",
      "Epoch 36/100\n",
      "7500/7500 [==============================] - 2s 282us/step - loss: 0.4032 - acc: 0.8347\n",
      "Epoch 37/100\n",
      "7500/7500 [==============================] - 2s 270us/step - loss: 0.4028 - acc: 0.8339\n",
      "Epoch 38/100\n",
      "7500/7500 [==============================] - 2s 267us/step - loss: 0.4032 - acc: 0.8323\n",
      "Epoch 39/100\n",
      "7500/7500 [==============================] - 1s 196us/step - loss: 0.4032 - acc: 0.8337\n",
      "Epoch 40/100\n",
      "7500/7500 [==============================] - 1s 183us/step - loss: 0.4028 - acc: 0.8337\n",
      "Epoch 41/100\n",
      "7500/7500 [==============================] - 1s 182us/step - loss: 0.4028 - acc: 0.8340\n",
      "Epoch 42/100\n",
      "7500/7500 [==============================] - 1s 182us/step - loss: 0.4025 - acc: 0.8349\n",
      "Epoch 43/100\n",
      "7500/7500 [==============================] - 1s 184us/step - loss: 0.4029 - acc: 0.8335\n",
      "Epoch 44/100\n",
      "7500/7500 [==============================] - 1s 182us/step - loss: 0.4025 - acc: 0.8343\n",
      "Epoch 45/100\n",
      "7500/7500 [==============================] - 1s 182us/step - loss: 0.4024 - acc: 0.8324\n",
      "Epoch 46/100\n",
      "7500/7500 [==============================] - 1s 183us/step - loss: 0.4025 - acc: 0.8345\n",
      "Epoch 47/100\n",
      "7500/7500 [==============================] - 1s 180us/step - loss: 0.4018 - acc: 0.8355\n",
      "Epoch 48/100\n",
      "7500/7500 [==============================] - 1s 183us/step - loss: 0.4024 - acc: 0.8339\n",
      "Epoch 49/100\n",
      "7500/7500 [==============================] - 1s 185us/step - loss: 0.4024 - acc: 0.8329\n",
      "Epoch 50/100\n",
      "7500/7500 [==============================] - 1s 183us/step - loss: 0.4024 - acc: 0.8323\n",
      "Epoch 51/100\n",
      "7500/7500 [==============================] - 1s 182us/step - loss: 0.4028 - acc: 0.8341\n",
      "Epoch 52/100\n",
      "7500/7500 [==============================] - 1s 185us/step - loss: 0.4023 - acc: 0.8343\n",
      "Epoch 53/100\n",
      "7500/7500 [==============================] - 1s 182us/step - loss: 0.4031 - acc: 0.8333\n",
      "Epoch 54/100\n",
      "7500/7500 [==============================] - 1s 181us/step - loss: 0.4020 - acc: 0.8347\n",
      "Epoch 55/100\n",
      "7500/7500 [==============================] - 1s 186us/step - loss: 0.4028 - acc: 0.8356\n",
      "Epoch 56/100\n",
      "7500/7500 [==============================] - 1s 183us/step - loss: 0.4019 - acc: 0.8332\n",
      "Epoch 57/100\n",
      "7500/7500 [==============================] - 1s 182us/step - loss: 0.4019 - acc: 0.8336\n",
      "Epoch 58/100\n",
      "7500/7500 [==============================] - 1s 185us/step - loss: 0.4020 - acc: 0.8317\n",
      "Epoch 59/100\n",
      "7500/7500 [==============================] - 1s 183us/step - loss: 0.4019 - acc: 0.8351\n",
      "Epoch 60/100\n",
      "7500/7500 [==============================] - 1s 185us/step - loss: 0.4014 - acc: 0.8348\n",
      "Epoch 61/100\n",
      "7500/7500 [==============================] - 1s 183us/step - loss: 0.4021 - acc: 0.8340\n",
      "Epoch 62/100\n",
      "7500/7500 [==============================] - 1s 182us/step - loss: 0.4016 - acc: 0.8332\n",
      "Epoch 63/100\n",
      "7500/7500 [==============================] - 1s 185us/step - loss: 0.4011 - acc: 0.8340\n",
      "Epoch 64/100\n",
      "7500/7500 [==============================] - 1s 185us/step - loss: 0.4019 - acc: 0.8329\n",
      "Epoch 65/100\n",
      "7500/7500 [==============================] - 1s 181us/step - loss: 0.4015 - acc: 0.8352\n",
      "Epoch 66/100\n",
      "7500/7500 [==============================] - 1s 184us/step - loss: 0.4020 - acc: 0.8340\n",
      "Epoch 67/100\n",
      "7500/7500 [==============================] - 1s 182us/step - loss: 0.4014 - acc: 0.8353\n",
      "Epoch 68/100\n",
      "7500/7500 [==============================] - 1s 184us/step - loss: 0.4013 - acc: 0.8327\n",
      "Epoch 69/100\n",
      "7500/7500 [==============================] - 1s 184us/step - loss: 0.4024 - acc: 0.8349\n",
      "Epoch 70/100\n",
      "7500/7500 [==============================] - 1s 184us/step - loss: 0.4016 - acc: 0.8341\n",
      "Epoch 71/100\n",
      "7500/7500 [==============================] - 1s 189us/step - loss: 0.4019 - acc: 0.8332\n",
      "Epoch 72/100\n",
      "7500/7500 [==============================] - 1s 186us/step - loss: 0.4011 - acc: 0.8341\n",
      "Epoch 73/100\n",
      "7500/7500 [==============================] - 1s 183us/step - loss: 0.4016 - acc: 0.8355\n",
      "Epoch 74/100\n",
      "7500/7500 [==============================] - 1s 183us/step - loss: 0.4018 - acc: 0.8351\n",
      "Epoch 75/100\n",
      "7500/7500 [==============================] - 1s 183us/step - loss: 0.4015 - acc: 0.8329\n",
      "Epoch 76/100\n",
      "7500/7500 [==============================] - 1s 184us/step - loss: 0.4016 - acc: 0.8352\n",
      "Epoch 77/100\n",
      "7500/7500 [==============================] - 1s 184us/step - loss: 0.4017 - acc: 0.8336\n",
      "Epoch 78/100\n",
      "7500/7500 [==============================] - 1s 185us/step - loss: 0.4013 - acc: 0.8361\n",
      "Epoch 79/100\n",
      "7500/7500 [==============================] - 1s 185us/step - loss: 0.4017 - acc: 0.8337\n",
      "Epoch 80/100\n",
      "7500/7500 [==============================] - 1s 183us/step - loss: 0.4015 - acc: 0.8339\n",
      "Epoch 81/100\n",
      "7500/7500 [==============================] - 1s 183us/step - loss: 0.4017 - acc: 0.8341\n",
      "Epoch 82/100\n"
     ]
    },
    {
     "name": "stdout",
     "output_type": "stream",
     "text": [
      "7500/7500 [==============================] - 1s 184us/step - loss: 0.4016 - acc: 0.8353\n",
      "Epoch 83/100\n",
      "7500/7500 [==============================] - 1s 186us/step - loss: 0.4014 - acc: 0.8352\n",
      "Epoch 84/100\n",
      "7500/7500 [==============================] - 1s 183us/step - loss: 0.4017 - acc: 0.8331\n",
      "Epoch 85/100\n",
      "7500/7500 [==============================] - 1s 184us/step - loss: 0.4014 - acc: 0.8348\n",
      "Epoch 86/100\n",
      "7500/7500 [==============================] - 1s 183us/step - loss: 0.4015 - acc: 0.8344\n",
      "Epoch 87/100\n",
      "7500/7500 [==============================] - 1s 182us/step - loss: 0.4013 - acc: 0.8344\n",
      "Epoch 88/100\n",
      "7500/7500 [==============================] - 1s 185us/step - loss: 0.4018 - acc: 0.8359\n",
      "Epoch 89/100\n",
      "7500/7500 [==============================] - 1s 184us/step - loss: 0.4018 - acc: 0.8351\n",
      "Epoch 90/100\n",
      "7500/7500 [==============================] - 1s 185us/step - loss: 0.4015 - acc: 0.8345\n",
      "Epoch 91/100\n",
      "7500/7500 [==============================] - 1s 186us/step - loss: 0.4017 - acc: 0.8357\n",
      "Epoch 92/100\n",
      "7500/7500 [==============================] - 1s 183us/step - loss: 0.4011 - acc: 0.8329\n",
      "Epoch 93/100\n",
      "7500/7500 [==============================] - 1s 182us/step - loss: 0.4011 - acc: 0.8344\n",
      "Epoch 94/100\n",
      "7500/7500 [==============================] - 1s 183us/step - loss: 0.4013 - acc: 0.8345\n",
      "Epoch 95/100\n",
      "7500/7500 [==============================] - 1s 185us/step - loss: 0.4014 - acc: 0.8357\n",
      "Epoch 96/100\n",
      "7500/7500 [==============================] - 1s 183us/step - loss: 0.4012 - acc: 0.8339\n",
      "Epoch 97/100\n",
      "7500/7500 [==============================] - 1s 182us/step - loss: 0.4010 - acc: 0.8352\n",
      "Epoch 98/100\n",
      "7500/7500 [==============================] - 1s 184us/step - loss: 0.4012 - acc: 0.8333\n",
      "Epoch 99/100\n",
      "7500/7500 [==============================] - 1s 182us/step - loss: 0.4009 - acc: 0.8345\n",
      "Epoch 100/100\n",
      "7500/7500 [==============================] - 1s 184us/step - loss: 0.4014 - acc: 0.8344\n"
     ]
    },
    {
     "data": {
      "text/plain": [
       "<keras.callbacks.History at 0x7fd6b2d527b8>"
      ]
     },
     "execution_count": 76,
     "metadata": {},
     "output_type": "execute_result"
    }
   ],
   "source": [
    "# fitting the ANN to trainign set\n",
    "classifier.fit(X_train, Y_train, batch_size = 10, nb_epoch = 100)"
   ]
  },
  {
   "cell_type": "code",
   "execution_count": 77,
   "metadata": {},
   "outputs": [],
   "source": [
    "# Predict the test set results\n",
    "y_pred = classifier.predict(X_test)"
   ]
  },
  {
   "cell_type": "code",
   "execution_count": 78,
   "metadata": {},
   "outputs": [
    {
     "data": {
      "text/plain": [
       "array([[0.2420077 ],\n",
       "       [0.4170385 ],\n",
       "       [0.19671255],\n",
       "       ...,\n",
       "       [0.32357234],\n",
       "       [0.33560506],\n",
       "       [0.07055423]], dtype=float32)"
      ]
     },
     "execution_count": 78,
     "metadata": {},
     "output_type": "execute_result"
    }
   ],
   "source": [
    "y_pred"
   ]
  },
  {
   "cell_type": "code",
   "execution_count": 85,
   "metadata": {},
   "outputs": [
    {
     "data": {
      "text/plain": [
       "array([[False],\n",
       "       [False],\n",
       "       [False],\n",
       "       ...,\n",
       "       [False],\n",
       "       [False],\n",
       "       [False]])"
      ]
     },
     "execution_count": 85,
     "metadata": {},
     "output_type": "execute_result"
    }
   ],
   "source": [
    "y_pred = (y_pred > 0.5)\n",
    "y_pred"
   ]
  },
  {
   "cell_type": "code",
   "execution_count": 86,
   "metadata": {},
   "outputs": [],
   "source": [
    "from sklearn.metrics import confusion_matrix\n",
    "cm = confusion_matrix(Y_test, y_pred)"
   ]
  },
  {
   "cell_type": "code",
   "execution_count": 87,
   "metadata": {},
   "outputs": [
    {
     "data": {
      "text/plain": [
       "array([[1911,   80],\n",
       "       [ 309,  200]])"
      ]
     },
     "execution_count": 87,
     "metadata": {},
     "output_type": "execute_result"
    }
   ],
   "source": [
    "cm"
   ]
  },
  {
   "cell_type": "code",
   "execution_count": 88,
   "metadata": {},
   "outputs": [
    {
     "data": {
      "text/plain": [
       "2500"
      ]
     },
     "execution_count": 88,
     "metadata": {},
     "output_type": "execute_result"
    }
   ],
   "source": [
    "Y_test.size"
   ]
  },
  {
   "cell_type": "code",
   "execution_count": 89,
   "metadata": {},
   "outputs": [],
   "source": [
    "accuracy = (1911+200)/2500"
   ]
  },
  {
   "cell_type": "code",
   "execution_count": 90,
   "metadata": {},
   "outputs": [
    {
     "data": {
      "text/plain": [
       "0.8444"
      ]
     },
     "execution_count": 90,
     "metadata": {},
     "output_type": "execute_result"
    }
   ],
   "source": [
    "accuracy"
   ]
  },
  {
   "cell_type": "code",
   "execution_count": null,
   "metadata": {},
   "outputs": [],
   "source": []
  }
 ],
 "metadata": {
  "kernelspec": {
   "display_name": "conda_tensorflow_p36",
   "language": "python",
   "name": "conda_tensorflow_p36"
  },
  "language_info": {
   "codemirror_mode": {
    "name": "ipython",
    "version": 3
   },
   "file_extension": ".py",
   "mimetype": "text/x-python",
   "name": "python",
   "nbconvert_exporter": "python",
   "pygments_lexer": "ipython3",
   "version": "3.6.5"
  }
 },
 "nbformat": 4,
 "nbformat_minor": 2
}
